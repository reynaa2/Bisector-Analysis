{
 "cells": [
  {
   "cell_type": "code",
   "execution_count": null,
   "metadata": {
    "collapsed": true
   },
   "outputs": [],
   "source": [
    "# Plot CCFs \n",
    "import numpy as np\n",
    "import matplotlib.pyplot as plt\n",
    "import apogee.tools.read as apread\n",
    "import pylab as pl\n",
    "\n",
    "filenames = 'interestingTargets_M71.csv'\n",
    "z = np.loadtxt(filenames, delimiter=',', dtype=str,unpack=True)\n",
    "targetCount = len(z)\n",
    "\n",
    "apogeeIDs=np.array(z[1])\n",
    "locationIDs=np.array(z[0])\n",
    "\n",
    "print(len(locationIDs))\n",
    "plotname = 'interestingTargets_M71'\n",
    "TargetCount = len(locationIDs)\n",
    "\n",
    "for i in range(TargetCount):\n",
    "    LocationID = locationIDs[i]\n",
    "    ApogeeID = apogeeIDs[i]\n",
    "    \n",
    "    badheader, header = apread.apStar(LocationID,ApogeeID, ext=0, dr='13', header=True)\n",
    "    z= apread.apStar(LocationID, ApogeeID, ext=9, header=False, dr='13')\n",
    "    nvisits = header['NVISITS']\n",
    "    plt.figure(figsize=(10,10))\n",
    "    \n",
    "# This is for plotting the interestingTargets to visually confirm if the code is working appropriately.\n",
    "    for visit in range(0, nvisits):\n",
    "        if (nvisits != 1):\n",
    "            CcF = z['CCF'][0][2+ visit]\n",
    "        else:\n",
    "            CcF = z['CCF'][0]\n",
    "#Conditions to adjust the legend size       \n",
    "        if (visit < 6):\n",
    "                plt.plot(CcF + visit,label= 'Visit: '+str(1+visit)) \n",
    "                plt.xlabel('CCF Lag',fontsize=15)\n",
    "                plt.ylabel('$\\widehat{CCF}$ Units', fontsize=15)\n",
    "                plt.title('All Visits for '+ str(LocationID)+'/'+str(ApogeeID),fontsize=16)\n",
    "                plt.legend(loc='lower left')\n",
    "                plt.savefig('/Volumes/CoveyData/APOGEE_Spectra/APOGEE2_DR13/Bisector/BinaryFinder_Plots/M.71/'+str(plotname)+'-'+ str(i))\n",
    "\n",
    "\n",
    "        else:\n",
    "                plt.plot(CcF + visit,label= 'Visit: '+str(1+visit)) \n",
    "                plt.xlabel('CCF Lag',fontsize=15)\n",
    "                plt.ylabel('$\\widehat{CCF}$ Units', fontsize=15)\n",
    "                plt.title('All Visits for '+ str(LocationID)+'/'+str(ApogeeID),fontsize=16)\n",
    "                plt.legend(loc='upper right', fontsize = 10)\n",
    "                plt.savefig('/Volumes/CoveyData/APOGEE_Spectra/APOGEE2_DR13/Bisector/BinaryFinder_Plots/M.71/'+str(plotname)+'-'+ str(i))\n",
    "\n"
   ]
  }
 ],
 "metadata": {
  "anaconda-cloud": {},
  "kernelspec": {
   "display_name": "Python [yo]",
   "language": "python",
   "name": "Python [yo]"
  },
  "language_info": {
   "codemirror_mode": {
    "name": "ipython",
    "version": 2
   },
   "file_extension": ".py",
   "mimetype": "text/x-python",
   "name": "python",
   "nbconvert_exporter": "python",
   "pygments_lexer": "ipython2",
   "version": "2.7.12"
  }
 },
 "nbformat": 4,
 "nbformat_minor": 0
}
